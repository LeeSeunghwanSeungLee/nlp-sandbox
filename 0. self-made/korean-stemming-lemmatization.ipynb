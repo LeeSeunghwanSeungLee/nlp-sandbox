{
  "nbformat": 4,
  "nbformat_minor": 0,
  "metadata": {
    "colab": {
      "name": "1.형태소분석기.ipynb",
      "private_outputs": true,
      "provenance": []
    },
    "kernelspec": {
      "name": "python3",
      "display_name": "Python 3"
    },
    "language_info": {
      "name": "python"
    }
  },
  "cells": [
    {
      "cell_type": "markdown",
      "source": [
        "# 한국어 형태소 분석기\n",
        "\n",
        "이번 페이지에서는 한국어 형태소 분석기를 사용, 활용, 비교 분석을 진행할 예정입니다."
      ],
      "metadata": {
        "id": "a0vr1hE6dzoK"
      }
    },
    {
      "cell_type": "code",
      "source": [
        "#install okt, komoran kkma\n",
        "!pip install konlpy\n",
        "\n",
        "#install mecab\n",
        "! git clone https://github.com/SOMJANG/Mecab-ko-for-Google-Colab.git\n",
        "! cd Mecab-ko-for-Google-Colab #move to Mecab-ko~ folder\n",
        "!bash install_mecab-ko_on_colab190912.sh\n"
      ],
      "metadata": {
        "id": "sIqwyNDUd8IV"
      },
      "execution_count": null,
      "outputs": []
    },
    {
      "cell_type": "code",
      "source": [
        "# take a while to finish..\n",
        "%%bash\n",
        "git clone https://github.com/SOMJANG/Mecab-ko-for-Google-Colab.git\n",
        "cd Mecab-ko-for-Google-Colab\n",
        "bash install_mecab-ko_on_colab_light_220111.sh"
      ],
      "metadata": {
        "id": "8r2FHMWleVDf"
      },
      "execution_count": null,
      "outputs": []
    },
    {
      "cell_type": "code",
      "source": [
        "from konlpy.tag import Kkma, Komoran, Okt, Mecab\n",
        "\n",
        "# mec = Mecab() # not work.. why??\n",
        "okt = Okt()\n",
        "kkm = Kkma()\n",
        "kom = Komoran()"
      ],
      "metadata": {
        "id": "53XsKi2md-T7"
      },
      "execution_count": null,
      "outputs": []
    },
    {
      "cell_type": "code",
      "source": [
        "txt = '이영화는정말짱이예요.사랑하고싶게하는가슴속온감정을헤집어놓는영화예요.정말최고'\n",
        "\n",
        "# mec.pos(txt, flatten=False, join=True) #mecab\n",
        "kom.pos(txt,flatten=False, join=True) #komoran"
      ],
      "metadata": {
        "id": "sfkx_UVFeGHI"
      },
      "execution_count": null,
      "outputs": []
    },
    {
      "cell_type": "code",
      "source": [
        "kkm.pos(txt,flatten=False, join=True) #kkma"
      ],
      "metadata": {
        "id": "uwuXQgCggwk5"
      },
      "execution_count": null,
      "outputs": []
    },
    {
      "cell_type": "code",
      "source": [
        "okt.pos(txt,norm=True, stem=True, join=True) #okt"
      ],
      "metadata": {
        "id": "dnimyxwhg7oX"
      },
      "execution_count": null,
      "outputs": []
    },
    {
      "cell_type": "code",
      "source": [
        "txt = '너무재밓었다그래서보는것을추천한다'\n",
        "\n",
        "kom.pos(txt,flatten=False, join=True) #komoran"
      ],
      "metadata": {
        "id": "64GRo0mcg8hB"
      },
      "execution_count": null,
      "outputs": []
    },
    {
      "cell_type": "code",
      "source": [
        "kkm.pos(txt,flatten=False, join=True) #kkma"
      ],
      "metadata": {
        "id": "6Eweae9IhLni"
      },
      "execution_count": null,
      "outputs": []
    },
    {
      "cell_type": "code",
      "source": [
        "okt.pos(txt,norm=True, stem=True, join=True) #okt"
      ],
      "metadata": {
        "id": "fp3d_QY3hNCD"
      },
      "execution_count": null,
      "outputs": []
    },
    {
      "cell_type": "code",
      "source": [
        "# 참고로 속도는 mecab, 정규화는 okt를 활용하는 것이 나아보임!"
      ],
      "metadata": {
        "id": "PLL5s0WAhQRd"
      },
      "execution_count": null,
      "outputs": []
    },
    {
      "cell_type": "code",
      "source": [
        ""
      ],
      "metadata": {
        "id": "G5PHwclPhemv"
      },
      "execution_count": null,
      "outputs": []
    }
  ]
}